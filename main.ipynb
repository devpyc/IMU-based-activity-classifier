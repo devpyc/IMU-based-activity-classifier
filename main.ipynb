{
 "cells": [
  {
   "cell_type": "markdown",
   "id": "701f536e",
   "metadata": {},
   "source": [
    "# Pet-i Behavior Classification\n",
    "반려견 활동 상태 예측 모델"
   ]
  },
  {
   "cell_type": "markdown",
   "id": "97d5e3c4",
   "metadata": {},
   "source": [
    "## 1. 환경 설정\n",
    "필요한 라이브러리를 임포트합니다."
   ]
  },
  {
   "cell_type": "code",
   "execution_count": null,
   "id": "5f3bc1bf",
   "metadata": {},
   "outputs": [],
   "source": [
    "import os\n",
    "import pandas as pd\n",
    "import numpy as np\n",
    "from sklearn.model_selection import train_test_split\n",
    "from sklearn.preprocessing import StandardScaler, LabelEncoder\n",
    "import tensorflow as tf\n",
    "from tensorflow import keras\n",
    "from tensorflow.keras import layers\n",
    "\n",
    "# 노트북을 재현 가능한 상태로 설정\n",
    "os.environ['PYTHONHASHSEED'] = '0'\n"
   ]
  },
  {
   "cell_type": "markdown",
   "id": "96390b94",
   "metadata": {},
   "source": [
    "## 2. 데이터 로드 및 전처리\n",
    "`load_dataset` 함수를 정의하여 CSV 파일을 로드하고 전처리합니다."
   ]
  },
  {
   "cell_type": "code",
   "execution_count": null,
   "id": "14c2d567",
   "metadata": {},
   "outputs": [],
   "source": [
    "def load_dataset(data_dir='./dataset'):\n",
    "    \"\"\"\n",
    "    센서 데이터 CSV 파일을 로드하고 특징(X)과 레이블(y)로 반환합니다.\n",
    "    \"\"\"\n",
    "    try:\n",
    "        move = pd.read_csv(os.path.join(data_dir, 'DogMoveData.csv'))\n",
    "    except FileNotFoundError:\n",
    "        raise FileNotFoundError(\n",
    "            '데이터 파일을 찾을 수 없습니다. dataset 폴더에 DogMoveData.csv를 놓으세요.'\n",
    "        )\n",
    "    # 센서 관련 컬럼 선택\n",
    "    sensor_cols = [\n",
    "        'ABack_x','ABack_y','ABack_z','ANeck_x','ANeck_y','ANeck_z',\n",
    "        'GBack_x','GBack_y','GBack_z','GNeck_x','GNeck_y','GNeck_z'\n",
    "    ]\n",
    "    X = move[sensor_cols].values\n",
    "    y = move['Behavior_1'].values\n",
    "    return X, y\n",
    "\n",
    "# 데이터 로드 및 분할 예제\n",
    "X, y_raw = load_dataset()\n",
    "encoder = LabelEncoder()\n",
    "y = encoder.fit_transform(y_raw)\n",
    "X_train, X_test, y_train, y_test = train_test_split(\n",
    "    X, y, test_size=0.2, stratify=y, random_state=42\n",
    ")\n",
    "# 스케일링\n",
    "scaler = StandardScaler()\n",
    "X_train = scaler.fit_transform(X_train)\n",
    "X_test = scaler.transform(X_test)\n",
    "print(f'Train samples: {X_train.shape}, Test samples: {X_test.shape}')"
   ]
  },
  {
   "cell_type": "markdown",
   "id": "e4e647d8",
   "metadata": {},
   "source": [
    "## 3. 모델 정의\n",
    "완전연결 신경망(MLP) 모델을 생성하는 `build_model` 함수를 정의합니다."
   ]
  },
  {
   "cell_type": "code",
   "execution_count": null,
   "id": "32f3ca1c",
   "metadata": {},
   "outputs": [],
   "source": [
    "def build_model(input_shape, num_classes):\n",
    "    \"\"\"\n",
    "    입력 형태와 클래스 수에 따라 MLP 모델을 반환합니다.\n",
    "    \"\"\"\n",
    "    model = keras.Sequential([\n",
    "        layers.Dense(64, activation='relu', input_shape=input_shape),\n",
    "        layers.Dense(32, activation='relu'),\n",
    "        layers.Dense(num_classes, activation='softmax')\n",
    "    ])\n",
    "    model.compile(\n",
    "        optimizer='adam',\n",
    "        loss='sparse_categorical_crossentropy',\n",
    "        metrics=['accuracy']\n",
    "    )\n",
    "    return model\n",
    "\n",
    "# 모델 생성\n",
    "model = build_model(input_shape=(X_train.shape[1],), num_classes=len(encoder.classes_))\n",
    "model.summary()"
   ]
  },
  {
   "cell_type": "markdown",
   "id": "58b3ec80",
   "metadata": {},
   "source": [
    "## 4. 훈련 및 평가\n",
    "훈련 함수 `train_model`을 정의하고 훈련 및 평가를 수행합니다."
   ]
  },
  {
   "cell_type": "code",
   "execution_count": null,
   "id": "ab8076d8",
   "metadata": {},
   "outputs": [],
   "source": [
    "def train_model(model, X_train, y_train, X_test, y_test, epochs=35, batch_size=32):\n",
    "    \"\"\"\n",
    "    모델을 훈련시키고 history를 반환합니다.\n",
    "    \"\"\"\n",
    "    history = model.fit(\n",
    "        X_train, y_train,\n",
    "        validation_data=(X_test, y_test),\n",
    "        epochs=epochs,\n",
    "        batch_size=batch_size,\n",
    "        verbose=2\n",
    "    )\n",
    "    test_loss, test_acc = model.evaluate(X_test, y_test, verbose=0)\n",
    "    print(f'테스트 정확도: {test_acc:.4f}, 테스트 손실: {test_loss:.4f}')\n",
    "    return history\n",
    "\n",
    "# 모델 훈련 및 평가\n",
    "history = train_model(model, X_train, y_train, X_test, y_test)"
   ]
  },
  {
   "cell_type": "markdown",
   "id": "836ca797",
   "metadata": {},
   "source": [
    "## 5. 예측 및 결과 확인\n",
    "샘플 데이터를 예측하고 클래스 이름으로 변환합니다."
   ]
  },
  {
   "cell_type": "code",
   "execution_count": null,
   "id": "8e9daa22",
   "metadata": {},
   "outputs": [],
   "source": [
    "sample_idx = 0\n",
    "sample = X_test[sample_idx:sample_idx+1]\n",
    "pred = model.predict(sample)\n",
    "pred_class = encoder.inverse_transform([np.argmax(pred)])[0]\n",
    "print(f'샘플 {sample_idx} 예측 클래스: {pred_class}')"
   ]
  },
  {
   "cell_type": "markdown",
   "id": "ca401d18",
   "metadata": {},
   "source": [
    "## 6. 시각화\n",
    "훈련 과정의 정확도 및 손실 곡선을 표시합니다."
   ]
  },
  {
   "cell_type": "code",
   "execution_count": null,
   "id": "183a75b4",
   "metadata": {},
   "outputs": [],
   "source": [
    "import matplotlib.pyplot as plt\n",
    "\n",
    "plt.plot(history.history['loss'])\n",
    "plt.plot(history.history['val_loss'])\n",
    "plt.title('Model Loss')\n",
    "plt.xlabel('Epoch')\n",
    "plt.ylabel('Loss')\n",
    "plt.legend(['Train', 'Validation'])\n",
    "plt.show()\n",
    "\n",
    "plt.plot(history.history['accuracy'])\n",
    "plt.plot(history.history['val_accuracy'])\n",
    "plt.title('Model Accuracy')\n",
    "plt.xlabel('Epoch')\n",
    "plt.ylabel('Accuracy')\n",
    "plt.legend(['Train', 'Validation'])\n",
    "plt.show()"
   ]
  }
 ],
 "metadata": {},
 "nbformat": 4,
 "nbformat_minor": 5
}
